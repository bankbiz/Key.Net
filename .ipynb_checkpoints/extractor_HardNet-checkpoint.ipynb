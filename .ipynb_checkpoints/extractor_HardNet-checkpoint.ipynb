{
 "cells": [
  {
   "cell_type": "code",
   "execution_count": 1,
   "id": "ae41c67e",
   "metadata": {},
   "outputs": [
    {
     "name": "stderr",
     "output_type": "stream",
     "text": [
      "C:\\Users\\Clarinet-VR\\anaconda3\\envs\\keyNet_environment\\lib\\site-packages\\tensorflow\\python\\framework\\dtypes.py:526: FutureWarning: Passing (type, 1) or '1type' as a synonym of type is deprecated; in a future version of numpy, it will be understood as (type, (1,)) / '(1,)type'.\n",
      "  _np_qint8 = np.dtype([(\"qint8\", np.int8, 1)])\n",
      "C:\\Users\\Clarinet-VR\\anaconda3\\envs\\keyNet_environment\\lib\\site-packages\\tensorflow\\python\\framework\\dtypes.py:527: FutureWarning: Passing (type, 1) or '1type' as a synonym of type is deprecated; in a future version of numpy, it will be understood as (type, (1,)) / '(1,)type'.\n",
      "  _np_quint8 = np.dtype([(\"quint8\", np.uint8, 1)])\n",
      "C:\\Users\\Clarinet-VR\\anaconda3\\envs\\keyNet_environment\\lib\\site-packages\\tensorflow\\python\\framework\\dtypes.py:528: FutureWarning: Passing (type, 1) or '1type' as a synonym of type is deprecated; in a future version of numpy, it will be understood as (type, (1,)) / '(1,)type'.\n",
      "  _np_qint16 = np.dtype([(\"qint16\", np.int16, 1)])\n",
      "C:\\Users\\Clarinet-VR\\anaconda3\\envs\\keyNet_environment\\lib\\site-packages\\tensorflow\\python\\framework\\dtypes.py:529: FutureWarning: Passing (type, 1) or '1type' as a synonym of type is deprecated; in a future version of numpy, it will be understood as (type, (1,)) / '(1,)type'.\n",
      "  _np_quint16 = np.dtype([(\"quint16\", np.uint16, 1)])\n",
      "C:\\Users\\Clarinet-VR\\anaconda3\\envs\\keyNet_environment\\lib\\site-packages\\tensorflow\\python\\framework\\dtypes.py:530: FutureWarning: Passing (type, 1) or '1type' as a synonym of type is deprecated; in a future version of numpy, it will be understood as (type, (1,)) / '(1,)type'.\n",
      "  _np_qint32 = np.dtype([(\"qint32\", np.int32, 1)])\n",
      "C:\\Users\\Clarinet-VR\\anaconda3\\envs\\keyNet_environment\\lib\\site-packages\\tensorflow\\python\\framework\\dtypes.py:535: FutureWarning: Passing (type, 1) or '1type' as a synonym of type is deprecated; in a future version of numpy, it will be understood as (type, (1,)) / '(1,)type'.\n",
      "  np_resource = np.dtype([(\"resource\", np.ubyte, 1)])\n"
     ]
    }
   ],
   "source": [
    "import numpy as np\n",
    "import extract_features"
   ]
  },
  {
   "cell_type": "code",
   "execution_count": 2,
   "id": "d80ce7d6",
   "metadata": {},
   "outputs": [
    {
     "ename": "TypeError",
     "evalue": "main() missing 1 required positional argument: 'conf'",
     "output_type": "error",
     "traceback": [
      "\u001b[1;31m---------------------------------------------------------------------------\u001b[0m",
      "\u001b[1;31mTypeError\u001b[0m                                 Traceback (most recent call last)",
      "\u001b[1;32m<ipython-input-2-d52448adf140>\u001b[0m in \u001b[0;36m<module>\u001b[1;34m\u001b[0m\n\u001b[0;32m      1\u001b[0m \u001b[0mfeature_conf\u001b[0m \u001b[1;33m=\u001b[0m \u001b[0mextract_features\u001b[0m\u001b[1;33m.\u001b[0m\u001b[0mconfs\u001b[0m\u001b[1;33m[\u001b[0m\u001b[1;34m'hardnet'\u001b[0m\u001b[1;33m]\u001b[0m\u001b[1;33m\u001b[0m\u001b[1;33m\u001b[0m\u001b[0m\n\u001b[0;32m      2\u001b[0m \u001b[1;33m\u001b[0m\u001b[0m\n\u001b[1;32m----> 3\u001b[1;33m \u001b[0mextract_features\u001b[0m\u001b[1;33m.\u001b[0m\u001b[0mmain\u001b[0m\u001b[1;33m(\u001b[0m\u001b[0mlist_images\u001b[0m\u001b[1;33m=\u001b[0m\u001b[1;34m'test_im/image.txt'\u001b[0m\u001b[1;33m)\u001b[0m\u001b[1;33m\u001b[0m\u001b[1;33m\u001b[0m\u001b[0m\n\u001b[0m",
      "\u001b[1;31mTypeError\u001b[0m: main() missing 1 required positional argument: 'conf'"
     ]
    }
   ],
   "source": [
    "feature_conf = extract_features.confs['hardnet']\n",
    "\n",
    "extract_features.main(conf=feature_conf, list_images='test_im/image.txt')"
   ]
  },
  {
   "cell_type": "code",
   "execution_count": null,
   "id": "078a3d94",
   "metadata": {},
   "outputs": [],
   "source": [
    "dsc = np.load('extracted_features/KeyNet_default/test_im/test_im.ppm.dsc.npy')\n",
    "kpt = np.load('extracted_features/KeyNet_default/test_im/test_im.ppm.kpt.npy')\n",
    "\n",
    "print(\"dsc.shape\", dsc.shape)\n",
    "print(\"kpt.shape\", kpt.shape)"
   ]
  },
  {
   "cell_type": "code",
   "execution_count": null,
   "id": "9991c4c8",
   "metadata": {},
   "outputs": [],
   "source": [
    "print(\"dsc\", dsc)\n",
    "print(\"kpt\", kpt)"
   ]
  }
 ],
 "metadata": {
  "kernelspec": {
   "display_name": "keyNet_environment",
   "language": "python",
   "name": "keynet_environment"
  },
  "language_info": {
   "codemirror_mode": {
    "name": "ipython",
    "version": 3
   },
   "file_extension": ".py",
   "mimetype": "text/x-python",
   "name": "python",
   "nbconvert_exporter": "python",
   "pygments_lexer": "ipython3",
   "version": "3.7.11"
  }
 },
 "nbformat": 4,
 "nbformat_minor": 5
}
