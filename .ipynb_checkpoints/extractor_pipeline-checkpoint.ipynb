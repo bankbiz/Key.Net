{
 "cells": [
  {
   "cell_type": "code",
   "execution_count": 1,
   "id": "a3350761",
   "metadata": {
    "ExecuteTime": {
     "end_time": "2021-08-18T16:25:56.506951Z",
     "start_time": "2021-08-18T16:25:56.503227Z"
    }
   },
   "outputs": [
    {
     "name": "stdout",
     "output_type": "stream",
     "text": [
      "['/home/bankbiz/Documents/Key.Net', '/home/bankbiz/anaconda3/envs/keyNet_environment/lib/python37.zip', '/home/bankbiz/anaconda3/envs/keyNet_environment/lib/python3.7', '/home/bankbiz/anaconda3/envs/keyNet_environment/lib/python3.7/lib-dynload', '', '/home/bankbiz/anaconda3/envs/keyNet_environment/lib/python3.7/site-packages', '/home/bankbiz/anaconda3/envs/keyNet_environment/lib/python3.7/site-packages/IPython/extensions', '/home/bankbiz/.ipython', '/home/bankbiz/Documents/Key.Net/benchmark', '/home/bankbiz/Documents/Key.Net/benchmark_baselines', '/home/bankbiz/Documents/Key.Net/SOSNet']\n"
     ]
    }
   ],
   "source": [
    "import sys, os\n",
    "sys.path.append(os.path.join(os.getcwd(), \"benchmark\"))\n",
    "sys.path.append(os.path.join(os.getcwd(), \"benchmark_baselines\"))\n",
    "sys.path.append(os.path.join(os.getcwd(), \"SOSNet\"))\n",
    "sys.path.append(os.path.join(os.getcwd(), \"LoFTR\"))\n",
    "print(sys.path)"
   ]
  },
  {
   "cell_type": "code",
   "execution_count": 2,
   "id": "ae41c67e",
   "metadata": {
    "ExecuteTime": {
     "end_time": "2021-08-18T16:25:59.213973Z",
     "start_time": "2021-08-18T16:25:57.771948Z"
    }
   },
   "outputs": [],
   "source": [
    "import numpy as np\n",
    "import cv2\n",
    "\n",
    "from matplotlib import pyplot as plt"
   ]
  },
  {
   "cell_type": "code",
   "execution_count": null,
   "id": "176abe1f",
   "metadata": {},
   "outputs": [],
   "source": [
    "import extract_features\n",
    "\n",
    "from benchmark import viz_stereo, config\n",
    "from benchmark.methods.feature_matching import nn as match_features"
   ]
  },
  {
   "cell_type": "code",
   "execution_count": null,
   "id": "d80ce7d6",
   "metadata": {
    "ExecuteTime": {
     "end_time": "2021-08-18T11:21:45.953607Z",
     "start_time": "2021-08-18T11:21:42.228620Z"
    }
   },
   "outputs": [],
   "source": [
    "feature_conf = extract_features.confs['hardnet']\n",
    "extract_features.main(conf=feature_conf, list_images='test_im/national_stadium.txt')\n",
    "\n",
    "# dsc = np.load('extracted_features/KeyNet_HardNet/test_im/test_im.ppm.dsc.npy')\n",
    "# kpt = np.load('extracted_features/KeyNet_HardNet/test_im/test_im.ppm.kpt.npy')\n",
    "\n",
    "# print(\"dsc.shape\", dsc.shape)\n",
    "# print(\"kpt.shape\", kpt.shape)\n",
    "\n",
    "# print(\"dsc\", dsc)\n",
    "# print(\"kpt\", kpt)"
   ]
  },
  {
   "cell_type": "code",
   "execution_count": null,
   "id": "9991c4c8",
   "metadata": {
    "ExecuteTime": {
     "end_time": "2021-08-18T11:25:02.464066Z",
     "start_time": "2021-08-18T11:24:58.557924Z"
    }
   },
   "outputs": [],
   "source": [
    "feature_conf = extract_features.confs['sosnet']\n",
    "extract_features.main(conf=feature_conf, list_images='test_im/national_stadium.txt')"
   ]
  },
  {
   "cell_type": "code",
   "execution_count": 7,
   "id": "1ff00a2d",
   "metadata": {
    "ExecuteTime": {
     "end_time": "2021-08-18T17:02:33.121718Z",
     "start_time": "2021-08-18T17:02:33.116114Z"
    }
   },
   "outputs": [
    {
     "name": "stdout",
     "output_type": "stream",
     "text": [
      "(1495, 128)\n",
      "(1495, 128)\n",
      "[[1.00000000e+02 7.00000000e+01 1.00000006e+00 7.41827454e+02]\n",
      " [1.01116270e+02 6.92964646e+01 7.07106823e-01 6.96965515e+02]\n",
      " [3.88908730e+02 3.47896536e+02 7.07106823e-01 5.54628479e+02]\n",
      " ...\n",
      " [2.82842712e+02 2.35466558e+02 7.07106823e-01 4.20580482e+01]\n",
      " [5.98212337e+02 2.54558441e+02 7.07106823e-01 4.19630928e+01]\n",
      " [5.02752921e+02 4.39113311e+02 7.07106823e-01 4.18444138e+01]]\n",
      "(1495, 4)\n"
     ]
    }
   ],
   "source": [
    "dsc1 = np.load('extracted_features/KeyNet_SOSNet/test_im/IMG_1.1.jpg.dsc.npy')\n",
    "dsc2 = np.load('extracted_features/KeyNet_SOSNet/test_im/IMG_1.2.jpg.dsc.npy')\n",
    "\n",
    "kpt1 = np.load('extracted_features/KeyNet_SOSNet/test_im/IMG_1.1.jpg.kpt.npy')\n",
    "kpt2 = np.load('extracted_features/KeyNet_SOSNet/test_im/IMG_1.2.jpg.kpt.npy')\n",
    "\n",
    "print(dsc1.shape)\n",
    "print(dsc2.shape)\n",
    "print(kpt1)\n",
    "print(kpt2.shape)"
   ]
  },
  {
   "cell_type": "code",
   "execution_count": null,
   "id": "efa62e14",
   "metadata": {
    "ExecuteTime": {
     "end_time": "2021-08-18T11:41:03.022615Z",
     "start_time": "2021-08-18T11:41:03.011484Z"
    }
   },
   "outputs": [],
   "source": [
    "# cfg = config.get_config()\n",
    "# match_features.match(dsc1, dsc2, cfg[0], kpt1, kpt2)"
   ]
  },
  {
   "cell_type": "code",
   "execution_count": 11,
   "id": "34d31b59",
   "metadata": {
    "ExecuteTime": {
     "end_time": "2021-08-18T17:05:28.316539Z",
     "start_time": "2021-08-18T17:05:28.259486Z"
    }
   },
   "outputs": [
    {
     "ename": "NameError",
     "evalue": "name 'cm' is not defined",
     "output_type": "error",
     "traceback": [
      "\u001b[0;31m---------------------------------------------------------------------------\u001b[0m",
      "\u001b[0;31mNameError\u001b[0m                                 Traceback (most recent call last)",
      "\u001b[0;32m/tmp/ipykernel_34736/2747935499.py\u001b[0m in \u001b[0;36m<module>\u001b[0;34m\u001b[0m\n\u001b[1;32m     14\u001b[0m \u001b[0;34m\u001b[0m\u001b[0m\n\u001b[1;32m     15\u001b[0m \u001b[0;31m# Draw\u001b[0m\u001b[0;34m\u001b[0m\u001b[0;34m\u001b[0m\u001b[0;34m\u001b[0m\u001b[0m\n\u001b[0;32m---> 16\u001b[0;31m \u001b[0mcolor\u001b[0m \u001b[0;34m=\u001b[0m \u001b[0mcm\u001b[0m\u001b[0;34m.\u001b[0m\u001b[0mjet\u001b[0m\u001b[0;34m(\u001b[0m\u001b[0mmconf\u001b[0m\u001b[0;34m,\u001b[0m \u001b[0malpha\u001b[0m\u001b[0;34m=\u001b[0m\u001b[0;36m0.7\u001b[0m\u001b[0;34m)\u001b[0m\u001b[0;34m\u001b[0m\u001b[0;34m\u001b[0m\u001b[0m\n\u001b[0m\u001b[1;32m     17\u001b[0m text = [\n\u001b[1;32m     18\u001b[0m     \u001b[0;34m'SOSNet'\u001b[0m\u001b[0;34m,\u001b[0m\u001b[0;34m\u001b[0m\u001b[0;34m\u001b[0m\u001b[0m\n",
      "\u001b[0;31mNameError\u001b[0m: name 'cm' is not defined"
     ]
    }
   ],
   "source": [
    "from LoFTR.src.utils.plotting import make_matching_figure\n",
    "\n",
    "img1 = cv2.imread('test_im/IMG_1.1.jpg', 0)\n",
    "img2 = cv2.imread('test_im/IMG_1.2.jpg', 0)\n",
    "\n",
    "bf = cv2.BFMatcher(cv2.NORM_L2)\n",
    "matches = bf.knnMatch(dsc1, dsc2, k=2)\n",
    "\n",
    "# Apply SIFT's ratio test, notice that 0.8 may not be the best ratio for SOSNet\n",
    "good = []\n",
    "for m,n in matches:\n",
    "    if m.distance < 0.9*n.distance:\n",
    "        good.append([m])\n",
    "        \n",
    "# Draw\n",
    "color = cm.jet(mconf, alpha=0.7)\n",
    "text = [\n",
    "    'SOSNet',\n",
    "    'Matches: {}'.format(len(kpt1)),\n",
    "]\n",
    "make_matching_figure(img0_raw, img1_raw, kpt1, kpt2, color, kpt1, kpt2, text)\n",
    "        \n",
    "# img_matches_32 = cv2.drawMatchesKnn(img1, kp1, img2, kp2, good, 0, flags=2)\n",
    "# cv2.imwrite(\"sosnet32-matches.png\", img_matches_32)\n",
    "# plt.figure(0), plt.imshow(img_matches_32), plt.show()"
   ]
  },
  {
   "cell_type": "code",
   "execution_count": null,
   "id": "553f2c49",
   "metadata": {},
   "outputs": [],
   "source": []
  }
 ],
 "metadata": {
  "kernelspec": {
   "display_name": "keyNet_environment",
   "language": "python",
   "name": "keynet_environment"
  },
  "language_info": {
   "codemirror_mode": {
    "name": "ipython",
    "version": 3
   },
   "file_extension": ".py",
   "mimetype": "text/x-python",
   "name": "python",
   "nbconvert_exporter": "python",
   "pygments_lexer": "ipython3",
   "version": "3.7.11"
  },
  "varInspector": {
   "cols": {
    "lenName": 16,
    "lenType": 16,
    "lenVar": 40
   },
   "kernels_config": {
    "python": {
     "delete_cmd_postfix": "",
     "delete_cmd_prefix": "del ",
     "library": "var_list.py",
     "varRefreshCmd": "print(var_dic_list())"
    },
    "r": {
     "delete_cmd_postfix": ") ",
     "delete_cmd_prefix": "rm(",
     "library": "var_list.r",
     "varRefreshCmd": "cat(var_dic_list()) "
    }
   },
   "types_to_exclude": [
    "module",
    "function",
    "builtin_function_or_method",
    "instance",
    "_Feature"
   ],
   "window_display": false
  }
 },
 "nbformat": 4,
 "nbformat_minor": 5
}
