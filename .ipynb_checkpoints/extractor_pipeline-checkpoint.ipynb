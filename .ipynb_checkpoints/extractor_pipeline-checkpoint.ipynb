{
 "cells": [
  {
   "cell_type": "code",
   "execution_count": 1,
   "id": "d834c725",
   "metadata": {
    "ExecuteTime": {
     "end_time": "2021-08-18T10:46:27.302639Z",
     "start_time": "2021-08-18T10:46:27.299020Z"
    }
   },
   "outputs": [
    {
     "name": "stdout",
     "output_type": "stream",
     "text": [
      "['/home/bankbiz/Documents/Key.Net', '/home/bankbiz/anaconda3/envs/keyNet_environment/lib/python37.zip', '/home/bankbiz/anaconda3/envs/keyNet_environment/lib/python3.7', '/home/bankbiz/anaconda3/envs/keyNet_environment/lib/python3.7/lib-dynload', '', '/home/bankbiz/anaconda3/envs/keyNet_environment/lib/python3.7/site-packages', '/home/bankbiz/anaconda3/envs/keyNet_environment/lib/python3.7/site-packages/IPython/extensions', '/home/bankbiz/.ipython', '/home/bankbiz/Documents/Key.Net/benchmark', '/home/bankbiz/Documents/Key.Net/benchmark_baselines', '/home/bankbiz/Documents/Key.Net/SOSNet']\n"
     ]
    }
   ],
   "source": [
    "import sys, os\n",
    "sys.path.append(os.path.join(os.getcwd(), \"benchmark\"))\n",
    "sys.path.append(os.path.join(os.getcwd(), \"benchmark_baselines\"))\n",
    "sys.path.append(os.path.join(os.getcwd(), \"SOSNet\"))\n",
    "print(sys.path)"
   ]
  },
  {
   "cell_type": "code",
   "execution_count": 2,
   "id": "ae41c67e",
   "metadata": {
    "ExecuteTime": {
     "end_time": "2021-08-18T10:46:29.159551Z",
     "start_time": "2021-08-18T10:46:27.818554Z"
    }
   },
   "outputs": [
    {
     "name": "stderr",
     "output_type": "stream",
     "text": [
      "/home/bankbiz/anaconda3/envs/keyNet_environment/lib/python3.7/site-packages/tensorflow/python/framework/dtypes.py:526: FutureWarning: Passing (type, 1) or '1type' as a synonym of type is deprecated; in a future version of numpy, it will be understood as (type, (1,)) / '(1,)type'.\n",
      "  _np_qint8 = np.dtype([(\"qint8\", np.int8, 1)])\n",
      "/home/bankbiz/anaconda3/envs/keyNet_environment/lib/python3.7/site-packages/tensorflow/python/framework/dtypes.py:527: FutureWarning: Passing (type, 1) or '1type' as a synonym of type is deprecated; in a future version of numpy, it will be understood as (type, (1,)) / '(1,)type'.\n",
      "  _np_quint8 = np.dtype([(\"quint8\", np.uint8, 1)])\n",
      "/home/bankbiz/anaconda3/envs/keyNet_environment/lib/python3.7/site-packages/tensorflow/python/framework/dtypes.py:528: FutureWarning: Passing (type, 1) or '1type' as a synonym of type is deprecated; in a future version of numpy, it will be understood as (type, (1,)) / '(1,)type'.\n",
      "  _np_qint16 = np.dtype([(\"qint16\", np.int16, 1)])\n",
      "/home/bankbiz/anaconda3/envs/keyNet_environment/lib/python3.7/site-packages/tensorflow/python/framework/dtypes.py:529: FutureWarning: Passing (type, 1) or '1type' as a synonym of type is deprecated; in a future version of numpy, it will be understood as (type, (1,)) / '(1,)type'.\n",
      "  _np_quint16 = np.dtype([(\"quint16\", np.uint16, 1)])\n",
      "/home/bankbiz/anaconda3/envs/keyNet_environment/lib/python3.7/site-packages/tensorflow/python/framework/dtypes.py:530: FutureWarning: Passing (type, 1) or '1type' as a synonym of type is deprecated; in a future version of numpy, it will be understood as (type, (1,)) / '(1,)type'.\n",
      "  _np_qint32 = np.dtype([(\"qint32\", np.int32, 1)])\n",
      "/home/bankbiz/anaconda3/envs/keyNet_environment/lib/python3.7/site-packages/tensorflow/python/framework/dtypes.py:535: FutureWarning: Passing (type, 1) or '1type' as a synonym of type is deprecated; in a future version of numpy, it will be understood as (type, (1,)) / '(1,)type'.\n",
      "  np_resource = np.dtype([(\"resource\", np.ubyte, 1)])\n"
     ]
    }
   ],
   "source": [
    "import numpy as np\n",
    "import extract_features\n",
    "\n",
    "from benchmark import viz_stereo\n",
    "from benchmark.methods.feature_matching import nn as match_features"
   ]
  },
  {
   "cell_type": "code",
   "execution_count": 8,
   "id": "d80ce7d6",
   "metadata": {
    "ExecuteTime": {
     "end_time": "2021-08-18T11:21:45.953607Z",
     "start_time": "2021-08-18T11:21:42.228620Z"
    }
   },
   "outputs": [
    {
     "name": "stdout",
     "output_type": "stream",
     "text": [
      "configuration: {'name': 'HardNet', 'pytorch_weight': 'keyNet/pretrained_nets/HardNet++.pth'}\n",
      "Extract features for : KeyNet_HardNet\n"
     ]
    }
   ],
   "source": [
    "feature_conf = extract_features.confs['hardnet']\n",
    "extract_features.main(conf=feature_conf, list_images='test_im/national_stadium.txt')\n",
    "\n",
    "# dsc = np.load('extracted_features/KeyNet_HardNet/test_im/test_im.ppm.dsc.npy')\n",
    "# kpt = np.load('extracted_features/KeyNet_HardNet/test_im/test_im.ppm.kpt.npy')\n",
    "\n",
    "# print(\"dsc.shape\", dsc.shape)\n",
    "# print(\"kpt.shape\", kpt.shape)\n",
    "\n",
    "# print(\"dsc\", dsc)\n",
    "# print(\"kpt\", kpt)"
   ]
  },
  {
   "cell_type": "code",
   "execution_count": 4,
   "id": "9991c4c8",
   "metadata": {
    "ExecuteTime": {
     "end_time": "2021-08-18T10:46:53.914773Z",
     "start_time": "2021-08-18T10:46:52.101918Z"
    }
   },
   "outputs": [
    {
     "name": "stdout",
     "output_type": "stream",
     "text": [
      "configuration: {'name': 'SOSNet', 'pytorch_weight': 'SOSNet/sosnet-weights/sosnet-32x32-liberty.pth'}\n",
      "Extract features for : KeyNet_SOSNet\n",
      "dsc.shape (1495, 128)\n",
      "kpt.shape (1495, 4)\n",
      "dsc [[ 0.10265189 -0.12840281 -0.06470886 ...  0.13591132  0.01172903\n",
      "   0.04633556]\n",
      " [ 0.08247709 -0.07058986 -0.06322752 ...  0.10042425  0.08039401\n",
      "   0.05732325]\n",
      " [ 0.09547846 -0.03560368 -0.050007   ...  0.14626443  0.13748564\n",
      "   0.0202977 ]\n",
      " ...\n",
      " [ 0.08249043 -0.10941934 -0.03898047 ...  0.0978486  -0.02580511\n",
      "  -0.14865883]\n",
      " [ 0.06099408 -0.11915321 -0.03800565 ... -0.05173544  0.00778156\n",
      "  -0.08280418]\n",
      " [ 0.12563814  0.13166732 -0.01713662 ...  0.10967847 -0.03434138\n",
      "   0.1258879 ]]\n",
      "kpt [[409.41482631 487.90367902   0.70710682 622.45336914]\n",
      " [409.         489.           1.00000006 607.70556641]\n",
      " [459.         488.           1.00000006 533.92730713]\n",
      " ...\n",
      " [359.91735162 173.94826817   0.70710682  15.91290665]\n",
      " [251.02290732 594.67680298   0.70710682  15.87627697]\n",
      " [367.69552622 387.49451609   0.70710682  15.85180569]]\n"
     ]
    }
   ],
   "source": [
    "feature_conf = extract_features.confs['sosnet']\n",
    "extract_features.main(conf=feature_conf, list_images='test_im/national_stadium.txt')\n",
    "\n",
    "dsc = np.load('extracted_features/KeyNet_SOSNet/test_im/test_im.ppm.dsc.npy')\n",
    "kpt = np.load('extracted_features/KeyNet_SOSNet/test_im/test_im.ppm.kpt.npy')\n",
    "\n",
    "kpt1 = np.load('extracted_features/KeyNet_SOSNet/test_im/IMG_1.1.jpg.kpt.npy')\n",
    "kpt2 = np.load('extracted_features/KeyNet_SOSNet/test_im/IMG_1.2.jpg.kpt.npy')"
   ]
  },
  {
   "cell_type": "code",
   "execution_count": 6,
   "id": "1ff00a2d",
   "metadata": {
    "ExecuteTime": {
     "end_time": "2021-08-18T11:03:26.088437Z",
     "start_time": "2021-08-18T11:03:26.085183Z"
    }
   },
   "outputs": [
    {
     "name": "stdout",
     "output_type": "stream",
     "text": [
      "[409.41482631 487.90367902   0.70710682 622.45336914]\n",
      "[409.         489.           1.00000006 607.70556641]\n"
     ]
    }
   ],
   "source": [
    "# match_features.match()"
   ]
  },
  {
   "cell_type": "code",
   "execution_count": null,
   "id": "76515a39",
   "metadata": {},
   "outputs": [],
   "source": []
  }
 ],
 "metadata": {
  "kernelspec": {
   "display_name": "keyNet_environment",
   "language": "python",
   "name": "keynet_environment"
  },
  "language_info": {
   "codemirror_mode": {
    "name": "ipython",
    "version": 3
   },
   "file_extension": ".py",
   "mimetype": "text/x-python",
   "name": "python",
   "nbconvert_exporter": "python",
   "pygments_lexer": "ipython3",
   "version": "3.7.11"
  },
  "varInspector": {
   "cols": {
    "lenName": 16,
    "lenType": 16,
    "lenVar": 40
   },
   "kernels_config": {
    "python": {
     "delete_cmd_postfix": "",
     "delete_cmd_prefix": "del ",
     "library": "var_list.py",
     "varRefreshCmd": "print(var_dic_list())"
    },
    "r": {
     "delete_cmd_postfix": ") ",
     "delete_cmd_prefix": "rm(",
     "library": "var_list.r",
     "varRefreshCmd": "cat(var_dic_list()) "
    }
   },
   "types_to_exclude": [
    "module",
    "function",
    "builtin_function_or_method",
    "instance",
    "_Feature"
   ],
   "window_display": false
  }
 },
 "nbformat": 4,
 "nbformat_minor": 5
}
