{
 "cells": [
  {
   "cell_type": "code",
   "execution_count": 1,
   "id": "ae41c67e",
   "metadata": {},
   "outputs": [
    {
     "name": "stderr",
     "output_type": "stream",
     "text": [
      "C:\\Users\\Clarinet-VR\\anaconda3\\envs\\keyNet_environment\\lib\\site-packages\\tensorflow\\python\\framework\\dtypes.py:526: FutureWarning: Passing (type, 1) or '1type' as a synonym of type is deprecated; in a future version of numpy, it will be understood as (type, (1,)) / '(1,)type'.\n",
      "  _np_qint8 = np.dtype([(\"qint8\", np.int8, 1)])\n",
      "C:\\Users\\Clarinet-VR\\anaconda3\\envs\\keyNet_environment\\lib\\site-packages\\tensorflow\\python\\framework\\dtypes.py:527: FutureWarning: Passing (type, 1) or '1type' as a synonym of type is deprecated; in a future version of numpy, it will be understood as (type, (1,)) / '(1,)type'.\n",
      "  _np_quint8 = np.dtype([(\"quint8\", np.uint8, 1)])\n",
      "C:\\Users\\Clarinet-VR\\anaconda3\\envs\\keyNet_environment\\lib\\site-packages\\tensorflow\\python\\framework\\dtypes.py:528: FutureWarning: Passing (type, 1) or '1type' as a synonym of type is deprecated; in a future version of numpy, it will be understood as (type, (1,)) / '(1,)type'.\n",
      "  _np_qint16 = np.dtype([(\"qint16\", np.int16, 1)])\n",
      "C:\\Users\\Clarinet-VR\\anaconda3\\envs\\keyNet_environment\\lib\\site-packages\\tensorflow\\python\\framework\\dtypes.py:529: FutureWarning: Passing (type, 1) or '1type' as a synonym of type is deprecated; in a future version of numpy, it will be understood as (type, (1,)) / '(1,)type'.\n",
      "  _np_quint16 = np.dtype([(\"quint16\", np.uint16, 1)])\n",
      "C:\\Users\\Clarinet-VR\\anaconda3\\envs\\keyNet_environment\\lib\\site-packages\\tensorflow\\python\\framework\\dtypes.py:530: FutureWarning: Passing (type, 1) or '1type' as a synonym of type is deprecated; in a future version of numpy, it will be understood as (type, (1,)) / '(1,)type'.\n",
      "  _np_qint32 = np.dtype([(\"qint32\", np.int32, 1)])\n",
      "C:\\Users\\Clarinet-VR\\anaconda3\\envs\\keyNet_environment\\lib\\site-packages\\tensorflow\\python\\framework\\dtypes.py:535: FutureWarning: Passing (type, 1) or '1type' as a synonym of type is deprecated; in a future version of numpy, it will be understood as (type, (1,)) / '(1,)type'.\n",
      "  np_resource = np.dtype([(\"resource\", np.ubyte, 1)])\n"
     ]
    }
   ],
   "source": [
    "import numpy as np\n",
    "import extract_features"
   ]
  },
  {
   "cell_type": "code",
   "execution_count": 3,
   "id": "d80ce7d6",
   "metadata": {},
   "outputs": [
    {
     "name": "stdout",
     "output_type": "stream",
     "text": [
      "Extract features for : KeyNet_HardNet\n",
      "\n",
      "WARNING: The TensorFlow contrib module will not be included in TensorFlow 2.0.\n",
      "For more information, please see:\n",
      "  * https://github.com/tensorflow/community/blob/master/rfcs/20180907-contrib-sunset.md\n",
      "  * https://github.com/tensorflow/addons\n",
      "If you depend on functionality not listed there, please file an issue.\n",
      "\n"
     ]
    }
   ],
   "source": [
    "feature_conf = extract_features.confs['hardnet']\n",
    "\n",
    "extract_features.main(conf=feature_conf, list_images='test_im/image.txt')"
   ]
  },
  {
   "cell_type": "code",
   "execution_count": 5,
   "id": "078a3d94",
   "metadata": {},
   "outputs": [
    {
     "name": "stdout",
     "output_type": "stream",
     "text": [
      "dsc.shape (1495, 128)\n",
      "kpt.shape (1495, 4)\n",
      "dsc [[ 0.02697773  0.09337678  0.08597216 ...  0.03389812 -0.04415694\n",
      "   0.17677511]\n",
      " [ 0.02974526  0.10802355  0.06667711 ...  0.03455773 -0.05906097\n",
      "   0.16001704]\n",
      " [-0.00655926  0.18335024  0.12550946 ...  0.0052624   0.04350467\n",
      "   0.0840805 ]\n",
      " ...\n",
      " [-0.19153304  0.08488659  0.2116395  ...  0.09645231 -0.02772269\n",
      "   0.09649689]\n",
      " [-0.01213393  0.08516002 -0.06265895 ... -0.01186793 -0.12841962\n",
      "   0.05961721]\n",
      " [ 0.00326787 -0.08081295  0.02203921 ... -0.01544114  0.04671047\n",
      "   0.01154539]]\n",
      "kpt [[409.41482631 487.90367902   0.70710682 622.45336914]\n",
      " [409.         489.           1.00000006 607.70556641]\n",
      " [459.         488.           1.00000006 533.92730713]\n",
      " ...\n",
      " [359.91735162 173.94826817   0.70710682  15.91290665]\n",
      " [251.02290732 594.67680298   0.70710682  15.87627697]\n",
      " [367.69552622 387.49451609   0.70710682  15.85180569]]\n"
     ]
    }
   ],
   "source": [
    "dsc = np.load('extracted_features/KeyNet_HardNet/test_im/test_im.ppm.dsc.npy')\n",
    "kpt = np.load('extracted_features/KeyNet_HardNet/test_im/test_im.ppm.kpt.npy')\n",
    "\n",
    "print(\"dsc.shape\", dsc.shape)\n",
    "print(\"kpt.shape\", kpt.shape)\n",
    "\n",
    "print(\"dsc\", dsc)\n",
    "print(\"kpt\", kpt)"
   ]
  },
  {
   "cell_type": "code",
   "execution_count": 2,
   "id": "9991c4c8",
   "metadata": {},
   "outputs": [
    {
     "name": "stdout",
     "output_type": "stream",
     "text": [
      "conf {'name': 'SOSNet', 'pytorch_weight': 'SOSNet/sosnet-weights/sosnet-32x32-liberty.pth'}\n",
      "Extract features for : KeyNet_SOSNet\n",
      "\n",
      "WARNING: The TensorFlow contrib module will not be included in TensorFlow 2.0.\n",
      "For more information, please see:\n",
      "  * https://github.com/tensorflow/community/blob/master/rfcs/20180907-contrib-sunset.md\n",
      "  * https://github.com/tensorflow/addons\n",
      "If you depend on functionality not listed there, please file an issue.\n",
      "\n"
     ]
    }
   ],
   "source": [
    "feature_conf = extract_features.confs['sosnet']\n",
    "\n",
    "extract_features.main(conf=feature_conf, list_images='test_im/image.txt')"
   ]
  },
  {
   "cell_type": "code",
   "execution_count": 3,
   "id": "e35ea062",
   "metadata": {},
   "outputs": [
    {
     "name": "stdout",
     "output_type": "stream",
     "text": [
      "dsc.shape (1495, 128)\n",
      "kpt.shape (1495, 4)\n",
      "dsc [[ 0.10265189 -0.12840281 -0.06470886 ...  0.13591132  0.01172903\n",
      "   0.04633556]\n",
      " [ 0.08247709 -0.07058986 -0.06322752 ...  0.10042425  0.08039401\n",
      "   0.05732325]\n",
      " [ 0.09547846 -0.03560368 -0.050007   ...  0.14626443  0.13748564\n",
      "   0.0202977 ]\n",
      " ...\n",
      " [ 0.08249043 -0.10941934 -0.03898047 ...  0.0978486  -0.02580511\n",
      "  -0.14865883]\n",
      " [ 0.06099408 -0.11915321 -0.03800565 ... -0.05173544  0.00778156\n",
      "  -0.08280418]\n",
      " [ 0.12563814  0.13166732 -0.01713662 ...  0.10967847 -0.03434138\n",
      "   0.1258879 ]]\n",
      "kpt [[409.41482631 487.90367902   0.70710682 622.45336914]\n",
      " [409.         489.           1.00000006 607.70556641]\n",
      " [459.         488.           1.00000006 533.92730713]\n",
      " ...\n",
      " [359.91735162 173.94826817   0.70710682  15.91290665]\n",
      " [251.02290732 594.67680298   0.70710682  15.87627697]\n",
      " [367.69552622 387.49451609   0.70710682  15.85180569]]\n"
     ]
    }
   ],
   "source": [
    "dsc = np.load('extracted_features/KeyNet_SOSNet/test_im/test_im.ppm.dsc.npy')\n",
    "kpt = np.load('extracted_features/KeyNet_SOSNet/test_im/test_im.ppm.kpt.npy')\n",
    "\n",
    "print(\"dsc.shape\", dsc.shape)\n",
    "print(\"kpt.shape\", kpt.shape)\n",
    "\n",
    "print(\"dsc\", dsc)\n",
    "print(\"kpt\", kpt)"
   ]
  },
  {
   "cell_type": "code",
   "execution_count": null,
   "id": "90d38a33",
   "metadata": {},
   "outputs": [],
   "source": []
  }
 ],
 "metadata": {
  "kernelspec": {
   "display_name": "keyNet_environment",
   "language": "python",
   "name": "keynet_environment"
  },
  "language_info": {
   "codemirror_mode": {
    "name": "ipython",
    "version": 3
   },
   "file_extension": ".py",
   "mimetype": "text/x-python",
   "name": "python",
   "nbconvert_exporter": "python",
   "pygments_lexer": "ipython3",
   "version": "3.7.11"
  }
 },
 "nbformat": 4,
 "nbformat_minor": 5
}
