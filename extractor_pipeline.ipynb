{
 "cells": [
  {
   "cell_type": "code",
   "execution_count": 12,
   "id": "a3350761",
   "metadata": {
    "ExecuteTime": {
     "end_time": "2021-08-18T17:06:08.564546Z",
     "start_time": "2021-08-18T17:06:08.558531Z"
    }
   },
   "outputs": [
    {
     "name": "stdout",
     "output_type": "stream",
     "text": [
      "['/home/bankbiz/Documents/Key.Net', '/home/bankbiz/anaconda3/envs/keyNet_environment/lib/python37.zip', '/home/bankbiz/anaconda3/envs/keyNet_environment/lib/python3.7', '/home/bankbiz/anaconda3/envs/keyNet_environment/lib/python3.7/lib-dynload', '', '/home/bankbiz/anaconda3/envs/keyNet_environment/lib/python3.7/site-packages', '/home/bankbiz/anaconda3/envs/keyNet_environment/lib/python3.7/site-packages/IPython/extensions', '/home/bankbiz/.ipython', '/home/bankbiz/Documents/Key.Net/benchmark', '/home/bankbiz/Documents/Key.Net/benchmark_baselines', '/home/bankbiz/Documents/Key.Net/SOSNet', '/home/bankbiz/Documents/Key.Net/benchmark', '/home/bankbiz/Documents/Key.Net/benchmark_baselines', '/home/bankbiz/Documents/Key.Net/SOSNet', '/home/bankbiz/Documents/Key.Net/LoFTR']\n"
     ]
    }
   ],
   "source": [
    "import sys, os\n",
    "sys.path.append(os.path.join(os.getcwd(), \"benchmark\"))\n",
    "sys.path.append(os.path.join(os.getcwd(), \"benchmark_baselines\"))\n",
    "sys.path.append(os.path.join(os.getcwd(), \"SOSNet\"))\n",
    "sys.path.append(os.path.join(os.getcwd(), \"LoFTR\"))\n",
    "print(sys.path)"
   ]
  },
  {
   "cell_type": "code",
   "execution_count": 16,
   "id": "ae41c67e",
   "metadata": {
    "ExecuteTime": {
     "end_time": "2021-08-18T17:07:37.488553Z",
     "start_time": "2021-08-18T17:07:37.486032Z"
    }
   },
   "outputs": [],
   "source": [
    "import numpy as np\n",
    "import cv2\n",
    "import matplotlib.cm as cm\n",
    "\n",
    "from matplotlib import pyplot as plt"
   ]
  },
  {
   "cell_type": "code",
   "execution_count": null,
   "id": "176abe1f",
   "metadata": {},
   "outputs": [],
   "source": [
    "import extract_features\n",
    "\n",
    "from benchmark import viz_stereo, config\n",
    "from benchmark.methods.feature_matching import nn as match_features"
   ]
  },
  {
   "cell_type": "code",
   "execution_count": null,
   "id": "d80ce7d6",
   "metadata": {
    "ExecuteTime": {
     "end_time": "2021-08-18T11:21:45.953607Z",
     "start_time": "2021-08-18T11:21:42.228620Z"
    }
   },
   "outputs": [],
   "source": [
    "feature_conf = extract_features.confs['hardnet']\n",
    "extract_features.main(conf=feature_conf, list_images='test_im/national_stadium.txt')\n",
    "\n",
    "# dsc = np.load('extracted_features/KeyNet_HardNet/test_im/test_im.ppm.dsc.npy')\n",
    "# kpt = np.load('extracted_features/KeyNet_HardNet/test_im/test_im.ppm.kpt.npy')\n",
    "\n",
    "# print(\"dsc.shape\", dsc.shape)\n",
    "# print(\"kpt.shape\", kpt.shape)\n",
    "\n",
    "# print(\"dsc\", dsc)\n",
    "# print(\"kpt\", kpt)"
   ]
  },
  {
   "cell_type": "code",
   "execution_count": null,
   "id": "9991c4c8",
   "metadata": {
    "ExecuteTime": {
     "end_time": "2021-08-18T11:25:02.464066Z",
     "start_time": "2021-08-18T11:24:58.557924Z"
    }
   },
   "outputs": [],
   "source": [
    "feature_conf = extract_features.confs['sosnet']\n",
    "extract_features.main(conf=feature_conf, list_images='test_im/national_stadium.txt')"
   ]
  },
  {
   "cell_type": "code",
   "execution_count": 17,
   "id": "1ff00a2d",
   "metadata": {
    "ExecuteTime": {
     "end_time": "2021-08-18T17:07:41.086492Z",
     "start_time": "2021-08-18T17:07:41.073970Z"
    }
   },
   "outputs": [
    {
     "name": "stdout",
     "output_type": "stream",
     "text": [
      "(1495, 128)\n",
      "(1495, 128)\n",
      "[[1.00000000e+02 7.00000000e+01 1.00000006e+00 7.41827454e+02]\n",
      " [1.01116270e+02 6.92964646e+01 7.07106823e-01 6.96965515e+02]\n",
      " [3.88908730e+02 3.47896536e+02 7.07106823e-01 5.54628479e+02]\n",
      " ...\n",
      " [2.82842712e+02 2.35466558e+02 7.07106823e-01 4.20580482e+01]\n",
      " [5.98212337e+02 2.54558441e+02 7.07106823e-01 4.19630928e+01]\n",
      " [5.02752921e+02 4.39113311e+02 7.07106823e-01 4.18444138e+01]]\n",
      "(1495, 4)\n"
     ]
    }
   ],
   "source": [
    "dsc1 = np.load('extracted_features/KeyNet_SOSNet/test_im/IMG_1.1.jpg.dsc.npy')\n",
    "dsc2 = np.load('extracted_features/KeyNet_SOSNet/test_im/IMG_1.2.jpg.dsc.npy')\n",
    "\n",
    "kpt1 = np.load('extracted_features/KeyNet_SOSNet/test_im/IMG_1.1.jpg.kpt.npy')\n",
    "kpt2 = np.load('extracted_features/KeyNet_SOSNet/test_im/IMG_1.2.jpg.kpt.npy')\n",
    "\n",
    "print(dsc1.shape)\n",
    "print(dsc2.shape)\n",
    "print(kpt1)\n",
    "print(kpt2.shape)"
   ]
  },
  {
   "cell_type": "code",
   "execution_count": null,
   "id": "efa62e14",
   "metadata": {
    "ExecuteTime": {
     "end_time": "2021-08-18T11:41:03.022615Z",
     "start_time": "2021-08-18T11:41:03.011484Z"
    }
   },
   "outputs": [],
   "source": [
    "# cfg = config.get_config()\n",
    "# match_features.match(dsc1, dsc2, cfg[0], kpt1, kpt2)"
   ]
  },
  {
   "cell_type": "code",
   "execution_count": null,
   "id": "553f2c49",
   "metadata": {},
   "outputs": [],
   "source": []
  }
 ],
 "metadata": {
  "kernelspec": {
   "display_name": "keyNet_environment",
   "language": "python",
   "name": "keynet_environment"
  },
  "language_info": {
   "codemirror_mode": {
    "name": "ipython",
    "version": 3
   },
   "file_extension": ".py",
   "mimetype": "text/x-python",
   "name": "python",
   "nbconvert_exporter": "python",
   "pygments_lexer": "ipython3",
   "version": "3.7.11"
  },
  "varInspector": {
   "cols": {
    "lenName": 16,
    "lenType": 16,
    "lenVar": 40
   },
   "kernels_config": {
    "python": {
     "delete_cmd_postfix": "",
     "delete_cmd_prefix": "del ",
     "library": "var_list.py",
     "varRefreshCmd": "print(var_dic_list())"
    },
    "r": {
     "delete_cmd_postfix": ") ",
     "delete_cmd_prefix": "rm(",
     "library": "var_list.r",
     "varRefreshCmd": "cat(var_dic_list()) "
    }
   },
   "types_to_exclude": [
    "module",
    "function",
    "builtin_function_or_method",
    "instance",
    "_Feature"
   ],
   "window_display": false
  }
 },
 "nbformat": 4,
 "nbformat_minor": 5
}
