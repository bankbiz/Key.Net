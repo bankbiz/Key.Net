{
 "cells": [
  {
   "cell_type": "code",
   "execution_count": 1,
   "id": "a3350761",
   "metadata": {
    "ExecuteTime": {
     "end_time": "2021-08-20T10:04:00.392725Z",
     "start_time": "2021-08-20T10:04:00.384979Z"
    }
   },
   "outputs": [
    {
     "name": "stdout",
     "output_type": "stream",
     "text": [
      "['/home/bankbiz/Documents/experiment-benchmark/Key.Net', '/home/bankbiz/anaconda3/envs/keyNet_environment/lib/python37.zip', '/home/bankbiz/anaconda3/envs/keyNet_environment/lib/python3.7', '/home/bankbiz/anaconda3/envs/keyNet_environment/lib/python3.7/lib-dynload', '', '/home/bankbiz/anaconda3/envs/keyNet_environment/lib/python3.7/site-packages', '/home/bankbiz/anaconda3/envs/keyNet_environment/lib/python3.7/site-packages/IPython/extensions', '/home/bankbiz/.ipython', '/home/bankbiz/Documents/experiment-benchmark/Key.Net/SOSNet']\n"
     ]
    }
   ],
   "source": [
    "import sys, os\n",
    "sys.path.append(os.path.join(os.getcwd(), \"SOSNet\"))\n",
    "print(sys.path)"
   ]
  },
  {
   "cell_type": "code",
   "execution_count": 2,
   "id": "ae41c67e",
   "metadata": {
    "ExecuteTime": {
     "end_time": "2021-08-20T10:04:02.728769Z",
     "start_time": "2021-08-20T10:04:01.988923Z"
    }
   },
   "outputs": [],
   "source": [
    "#PYTHON MODULES\n",
    "import numpy as np\n",
    "import cv2\n",
    "import matplotlib.cm as cm\n",
    "\n",
    "from matplotlib import pyplot as plt"
   ]
  },
  {
   "cell_type": "code",
   "execution_count": null,
   "id": "176abe1f",
   "metadata": {},
   "outputs": [],
   "source": [
    "#CUSTOM MODULES\n",
    "import extract_features"
   ]
  },
  {
   "cell_type": "code",
   "execution_count": null,
   "id": "d80ce7d6",
   "metadata": {
    "ExecuteTime": {
     "end_time": "2021-08-18T11:21:45.953607Z",
     "start_time": "2021-08-18T11:21:42.228620Z"
    }
   },
   "outputs": [],
   "source": [
    "feature_conf = extract_features.confs['hardnet']\n",
    "extract_features.main(conf=feature_conf, list_images='test_im/national_stadium.txt')\n",
    "\n",
    "# dsc = np.load('extracted_features/KeyNet_HardNet/test_im/test_im.ppm.dsc.npy')\n",
    "# kpt = np.load('extracted_features/KeyNet_HardNet/test_im/test_im.ppm.kpt.npy')\n",
    "\n",
    "# print(\"dsc.shape\", dsc.shape)\n",
    "# print(\"kpt.shape\", kpt.shape)\n",
    "\n",
    "# print(\"dsc\", dsc)\n",
    "# print(\"kpt\", kpt)"
   ]
  },
  {
   "cell_type": "code",
   "execution_count": null,
   "id": "9991c4c8",
   "metadata": {
    "ExecuteTime": {
     "end_time": "2021-08-18T11:25:02.464066Z",
     "start_time": "2021-08-18T11:24:58.557924Z"
    }
   },
   "outputs": [],
   "source": [
    "feature_conf = extract_features.confs['sosnet']\n",
    "extract_features.main(conf=feature_conf, list_images='test_im/national_stadium.txt')"
   ]
  },
  {
   "cell_type": "code",
   "execution_count": 8,
   "id": "1ff00a2d",
   "metadata": {
    "ExecuteTime": {
     "end_time": "2021-08-20T10:54:09.739353Z",
     "start_time": "2021-08-20T10:54:09.730100Z"
    }
   },
   "outputs": [
    {
     "name": "stdout",
     "output_type": "stream",
     "text": [
      "dsc1: [ 0.07881504 -0.0384419   0.05555475  0.08001198 -0.03769808  0.05233848\n",
      "  0.03923311  0.13364486 -0.23984899  0.03792723 -0.05756382  0.06250813\n",
      " -0.00596486  0.06393896 -0.06535731  0.07588836  0.03957536  0.13818653\n",
      "  0.05288646  0.0974482   0.08231477 -0.17000929  0.12614524  0.03534447\n",
      " -0.00918998  0.20404778 -0.00605005 -0.01794342  0.00217039 -0.11285747\n",
      " -0.15255159 -0.14665754  0.07797184  0.09638709 -0.11765239  0.17960899\n",
      " -0.09530964  0.11541409 -0.22625223  0.0565481   0.06480525 -0.17083602\n",
      "  0.00971576  0.02460855 -0.04017958 -0.15284938  0.001535    0.05688378\n",
      "  0.13698955 -0.03078558  0.07094425  0.09226507 -0.11065981  0.10041506\n",
      "  0.13298517 -0.0098024   0.02257269 -0.02733019 -0.00207172  0.04774061\n",
      " -0.03021934  0.10303865  0.02485577 -0.05911637  0.10048605 -0.07665923\n",
      "  0.03068848  0.08229275  0.02924391 -0.10877493  0.02089959  0.02293231\n",
      "  0.05773903 -0.01666665 -0.04533693  0.02504176 -0.05424516  0.01111521\n",
      "  0.12311018  0.01323379  0.04637612 -0.05460757 -0.07107592  0.06641492\n",
      "  0.05404559  0.0350388  -0.14150012 -0.17479359 -0.1435688  -0.0278594\n",
      "  0.10505091  0.0130325  -0.04582532  0.0353731  -0.00158054 -0.01339854\n",
      " -0.039283    0.02365963 -0.07946558  0.00308448 -0.10273287 -0.02830266\n",
      " -0.11517292 -0.01908349 -0.05084149  0.10073664  0.01570839  0.11430743\n",
      " -0.03712931  0.05138526 -0.19280002 -0.01091258  0.06748548 -0.10390902\n",
      " -0.10404186 -0.07160497 -0.03438617 -0.10828078  0.15788916  0.07290564\n",
      "  0.13248506  0.16459861  0.06674395  0.01086377  0.01686694  0.06317065\n",
      "  0.06361176  0.01310438]\n",
      "kpt1[0] [100.          70.           1.00000006 741.82745361]\n"
     ]
    }
   ],
   "source": [
    "dsc1 = np.load('extracted_features/KeyNet_SOSNet/test_im/IMG_1.1.jpg.dsc.npy')\n",
    "dsc2 = np.load('extracted_features/KeyNet_SOSNet/test_im/IMG_1.2.jpg.dsc.npy')\n",
    "\n",
    "kpt1 = np.load('extracted_features/KeyNet_SOSNet/test_im/IMG_1.1.jpg.kpt.npy')\n",
    "kpt2 = np.load('extracted_features/KeyNet_SOSNet/test_im/IMG_1.2.jpg.kpt.npy')\n",
    "\n",
    "print(\"dsc1:\", dsc1[0])\n",
    "# print(\"dsc2.shape:\", dsc2.shape)\n",
    "# print(\"kpt1\", kpt1)\n",
    "print(\"kpt1[0]\", kpt1[0]) # x, y, scale, score\n",
    "# print(\"kpt2.shape\", kpt2.shape)"
   ]
  },
  {
   "cell_type": "code",
   "execution_count": null,
   "id": "553f2c49",
   "metadata": {},
   "outputs": [],
   "source": []
  }
 ],
 "metadata": {
  "kernelspec": {
   "display_name": "keyNet_environment",
   "language": "python",
   "name": "keynet_environment"
  },
  "language_info": {
   "codemirror_mode": {
    "name": "ipython",
    "version": 3
   },
   "file_extension": ".py",
   "mimetype": "text/x-python",
   "name": "python",
   "nbconvert_exporter": "python",
   "pygments_lexer": "ipython3",
   "version": "3.7.11"
  },
  "varInspector": {
   "cols": {
    "lenName": 16,
    "lenType": 16,
    "lenVar": 40
   },
   "kernels_config": {
    "python": {
     "delete_cmd_postfix": "",
     "delete_cmd_prefix": "del ",
     "library": "var_list.py",
     "varRefreshCmd": "print(var_dic_list())"
    },
    "r": {
     "delete_cmd_postfix": ") ",
     "delete_cmd_prefix": "rm(",
     "library": "var_list.r",
     "varRefreshCmd": "cat(var_dic_list()) "
    }
   },
   "types_to_exclude": [
    "module",
    "function",
    "builtin_function_or_method",
    "instance",
    "_Feature"
   ],
   "window_display": false
  }
 },
 "nbformat": 4,
 "nbformat_minor": 5
}
