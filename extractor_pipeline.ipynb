{
 "cells": [
  {
   "cell_type": "code",
   "execution_count": 1,
   "id": "d6c390d4",
   "metadata": {
    "ExecuteTime": {
     "end_time": "2021-08-18T10:46:27.302639Z",
     "start_time": "2021-08-18T10:46:27.299020Z"
    }
   },
   "outputs": [
    {
     "name": "stdout",
     "output_type": "stream",
     "text": [
      "['/home/bankbiz/Documents/Key.Net', '/home/bankbiz/anaconda3/envs/keyNet_environment/lib/python37.zip', '/home/bankbiz/anaconda3/envs/keyNet_environment/lib/python3.7', '/home/bankbiz/anaconda3/envs/keyNet_environment/lib/python3.7/lib-dynload', '', '/home/bankbiz/anaconda3/envs/keyNet_environment/lib/python3.7/site-packages', '/home/bankbiz/anaconda3/envs/keyNet_environment/lib/python3.7/site-packages/IPython/extensions', '/home/bankbiz/.ipython', '/home/bankbiz/Documents/Key.Net/benchmark', '/home/bankbiz/Documents/Key.Net/benchmark_baselines', '/home/bankbiz/Documents/Key.Net/SOSNet']\n"
     ]
    }
   ],
   "source": [
    "import sys, os\n",
    "sys.path.append(os.path.join(os.getcwd(), \"benchmark\"))\n",
    "sys.path.append(os.path.join(os.getcwd(), \"benchmark_baselines\"))\n",
    "sys.path.append(os.path.join(os.getcwd(), \"SOSNet\"))\n",
    "print(sys.path)"
   ]
  },
  {
   "cell_type": "code",
   "execution_count": 12,
   "id": "ae41c67e",
   "metadata": {
    "ExecuteTime": {
     "end_time": "2021-08-18T11:37:12.697902Z",
     "start_time": "2021-08-18T11:37:12.693867Z"
    }
   },
   "outputs": [],
   "source": [
    "import numpy as np\n",
    "import extract_features\n",
    "\n",
    "from benchmark import viz_stereo, config\n",
    "from benchmark.methods.feature_matching import nn as match_features"
   ]
  },
  {
   "cell_type": "code",
   "execution_count": 8,
   "id": "d80ce7d6",
   "metadata": {
    "ExecuteTime": {
     "end_time": "2021-08-18T11:21:45.953607Z",
     "start_time": "2021-08-18T11:21:42.228620Z"
    }
   },
   "outputs": [
    {
     "name": "stdout",
     "output_type": "stream",
     "text": [
      "configuration: {'name': 'HardNet', 'pytorch_weight': 'keyNet/pretrained_nets/HardNet++.pth'}\n",
      "Extract features for : KeyNet_HardNet\n"
     ]
    }
   ],
   "source": [
    "feature_conf = extract_features.confs['hardnet']\n",
    "extract_features.main(conf=feature_conf, list_images='test_im/national_stadium.txt')\n",
    "\n",
    "# dsc = np.load('extracted_features/KeyNet_HardNet/test_im/test_im.ppm.dsc.npy')\n",
    "# kpt = np.load('extracted_features/KeyNet_HardNet/test_im/test_im.ppm.kpt.npy')\n",
    "\n",
    "# print(\"dsc.shape\", dsc.shape)\n",
    "# print(\"kpt.shape\", kpt.shape)\n",
    "\n",
    "# print(\"dsc\", dsc)\n",
    "# print(\"kpt\", kpt)"
   ]
  },
  {
   "cell_type": "code",
   "execution_count": 9,
   "id": "9991c4c8",
   "metadata": {
    "ExecuteTime": {
     "end_time": "2021-08-18T11:25:02.464066Z",
     "start_time": "2021-08-18T11:24:58.557924Z"
    }
   },
   "outputs": [
    {
     "name": "stdout",
     "output_type": "stream",
     "text": [
      "configuration: {'name': 'SOSNet', 'pytorch_weight': 'SOSNet/sosnet-weights/sosnet-32x32-liberty.pth'}\n",
      "Extract features for : KeyNet_SOSNet\n"
     ]
    }
   ],
   "source": [
    "feature_conf = extract_features.confs['sosnet']\n",
    "extract_features.main(conf=feature_conf, list_images='test_im/national_stadium.txt')"
   ]
  },
  {
   "cell_type": "code",
   "execution_count": 10,
   "id": "1ff00a2d",
   "metadata": {
    "ExecuteTime": {
     "end_time": "2021-08-18T11:25:55.999127Z",
     "start_time": "2021-08-18T11:25:55.995684Z"
    }
   },
   "outputs": [
    {
     "name": "stdout",
     "output_type": "stream",
     "text": [
      "(1495, 128)\n",
      "(1495, 128)\n",
      "(1495, 4)\n",
      "(1495, 4)\n"
     ]
    }
   ],
   "source": [
    "dsc1 = np.load('extracted_features/KeyNet_SOSNet/test_im/IMG_1.1.jpg.dsc.npy')\n",
    "dsc2 = np.load('extracted_features/KeyNet_SOSNet/test_im/IMG_1.2.jpg.dsc.npy')\n",
    "\n",
    "kpt1 = np.load('extracted_features/KeyNet_SOSNet/test_im/IMG_1.1.jpg.kpt.npy')\n",
    "kpt2 = np.load('extracted_features/KeyNet_SOSNet/test_im/IMG_1.2.jpg.kpt.npy')\n",
    "\n",
    "print(dsc1.shape)\n",
    "print(dsc2.shape)\n",
    "print(kpt1.shape)\n",
    "print(kpt2.shape)"
   ]
  },
  {
   "cell_type": "code",
   "execution_count": 25,
   "id": "c8ff4ec7",
   "metadata": {
    "ExecuteTime": {
     "end_time": "2021-08-18T11:41:03.022615Z",
     "start_time": "2021-08-18T11:41:03.011484Z"
    }
   },
   "outputs": [
    {
     "name": "stdout",
     "output_type": "stream",
     "text": [
      " -- WARNING: non-standard subset, will dump results into packed-debug\n"
     ]
    },
    {
     "ename": "KeyError",
     "evalue": "'config__'",
     "output_type": "error",
     "traceback": [
      "\u001b[0;31m---------------------------------------------------------------------------\u001b[0m",
      "\u001b[0;31mKeyError\u001b[0m                                  Traceback (most recent call last)",
      "\u001b[0;32m/tmp/ipykernel_16378/495863829.py\u001b[0m in \u001b[0;36m<module>\u001b[0;34m\u001b[0m\n\u001b[1;32m      1\u001b[0m \u001b[0mcfg\u001b[0m \u001b[0;34m=\u001b[0m \u001b[0mconfig\u001b[0m\u001b[0;34m.\u001b[0m\u001b[0mget_config\u001b[0m\u001b[0;34m(\u001b[0m\u001b[0;34m)\u001b[0m\u001b[0;34m\u001b[0m\u001b[0;34m\u001b[0m\u001b[0m\n\u001b[0;32m----> 2\u001b[0;31m \u001b[0mmatch_features\u001b[0m\u001b[0;34m.\u001b[0m\u001b[0mmatch\u001b[0m\u001b[0;34m(\u001b[0m\u001b[0mdsc1\u001b[0m\u001b[0;34m,\u001b[0m \u001b[0mdsc2\u001b[0m\u001b[0;34m,\u001b[0m \u001b[0mcfg\u001b[0m\u001b[0;34m[\u001b[0m\u001b[0;36m0\u001b[0m\u001b[0;34m]\u001b[0m\u001b[0;34m,\u001b[0m \u001b[0mkpt1\u001b[0m\u001b[0;34m,\u001b[0m \u001b[0mkpt2\u001b[0m\u001b[0;34m)\u001b[0m\u001b[0;34m\u001b[0m\u001b[0;34m\u001b[0m\u001b[0m\n\u001b[0m",
      "\u001b[0;32m~/Documents/Key.Net/benchmark/methods/feature_matching/nn.py\u001b[0m in \u001b[0;36mmatch\u001b[0;34m(desc1, desc2, cfg, kps1, kps2)\u001b[0m\n\u001b[1;32m     37\u001b[0m     \u001b[0;31m# Parse options\u001b[0m\u001b[0;34m\u001b[0m\u001b[0;34m\u001b[0m\u001b[0;34m\u001b[0m\u001b[0m\n\u001b[1;32m     38\u001b[0m     \u001b[0mcur_key\u001b[0m \u001b[0;34m=\u001b[0m \u001b[0;34m'config_{}_{}'\u001b[0m\u001b[0;34m.\u001b[0m\u001b[0mformat\u001b[0m\u001b[0;34m(\u001b[0m\u001b[0mcfg\u001b[0m\u001b[0;34m.\u001b[0m\u001b[0mdataset\u001b[0m\u001b[0;34m,\u001b[0m \u001b[0mcfg\u001b[0m\u001b[0;34m.\u001b[0m\u001b[0mtask\u001b[0m\u001b[0;34m)\u001b[0m\u001b[0;34m\u001b[0m\u001b[0;34m\u001b[0m\u001b[0m\n\u001b[0;32m---> 39\u001b[0;31m     \u001b[0mmethod_match\u001b[0m \u001b[0;34m=\u001b[0m \u001b[0mcfg\u001b[0m\u001b[0;34m.\u001b[0m\u001b[0mmethod_dict\u001b[0m\u001b[0;34m[\u001b[0m\u001b[0mcur_key\u001b[0m\u001b[0;34m]\u001b[0m\u001b[0;34m[\u001b[0m\u001b[0;34m'matcher'\u001b[0m\u001b[0;34m]\u001b[0m\u001b[0;34m\u001b[0m\u001b[0;34m\u001b[0m\u001b[0m\n\u001b[0m\u001b[1;32m     40\u001b[0m     \u001b[0mfilter_type\u001b[0m \u001b[0;34m=\u001b[0m \u001b[0mmethod_match\u001b[0m\u001b[0;34m[\u001b[0m\u001b[0;34m'filtering'\u001b[0m\u001b[0;34m]\u001b[0m\u001b[0;34m[\u001b[0m\u001b[0;34m'type'\u001b[0m\u001b[0;34m]\u001b[0m\u001b[0;34m.\u001b[0m\u001b[0mlower\u001b[0m\u001b[0;34m(\u001b[0m\u001b[0;34m)\u001b[0m\u001b[0;34m\u001b[0m\u001b[0;34m\u001b[0m\u001b[0m\n\u001b[1;32m     41\u001b[0m \u001b[0;34m\u001b[0m\u001b[0m\n",
      "\u001b[0;31mKeyError\u001b[0m: 'config__'"
     ]
    }
   ],
   "source": [
    "cfg = config.get_config()\n",
    "match_features.match(dsc1, dsc2, cfg[0], kpt1, kpt2)"
   ]
  },
  {
   "cell_type": "code",
   "execution_count": 26,
   "id": "626be827",
   "metadata": {
    "ExecuteTime": {
     "end_time": "2021-08-18T11:41:11.718516Z",
     "start_time": "2021-08-18T11:41:11.715068Z"
    }
   },
   "outputs": [
    {
     "data": {
      "text/plain": [
       "Namespace(bag_id=-1, bag_size=-1, cc_account='def-kyi', cc_time='03:00', colmap_min_model_size=3, conda_env='sfm', dataset='', error_level=0, eval_multiview=True, eval_stereo=True, is_challenge=False, is_submission=False, json_deprecated_images='json/deprecated_images.json', json_method='', matching_repeatability_radius_threshold=0.01, matching_score_and_repeatability_px_threshold=[1, 2, 3, 4, 5, 6, 7, 8, 9, 10], matching_score_epipolar_threshold=0.0001, matching_score_reprojection_threshold=0.001, max_num_images_viz_multiview=10, method_dict={}, num_max_set=100, num_opencv_threads=0, num_runs_test_multiview=1, num_runs_test_stereo=1, num_runs_val_multiview=1, num_runs_val_stereo=1, num_viz_colmap_subsets_bagsize10=1, num_viz_colmap_subsets_bagsize25=0, num_viz_colmap_subsets_bagsize3=0, num_viz_colmap_subsets_bagsize5=0, num_viz_stereo_pairs=10, num_viz_stereo_pairs_debug=200, opencv_seed=42, parallel=1, path_data='../data', path_pack='packed-debug', path_results='../benchmark-results', path_visualization='../benchmark-visualization', run='', run_mode='batch', run_viz=True, run_viz_debug=False, scene='', scenes_googleurban_test='', scenes_googleurban_val='', scenes_phototourism_test='', scenes_phototourism_val='', scenes_pragueparks_test='', scenes_pragueparks_val='', skip_packing=False, slurm_jobs_path='./jobs', slurm_logs_path='./logs', splits_googleurban_test='', splits_googleurban_val='', splits_phototourism_test='', splits_phototourism_val='', splits_pragueparks_test='', splits_pragueparks_val='', subset=None, task='', vis_th=100, viz_composite_vert=True)"
      ]
     },
     "execution_count": 26,
     "metadata": {},
     "output_type": "execute_result"
    }
   ],
   "source": [
    "cfg[0]"
   ]
  },
  {
   "cell_type": "code",
   "execution_count": null,
   "id": "700f2ea5",
   "metadata": {},
   "outputs": [],
   "source": []
  }
 ],
 "metadata": {
  "kernelspec": {
   "display_name": "keyNet_environment",
   "language": "python",
   "name": "keynet_environment"
  },
  "language_info": {
   "codemirror_mode": {
    "name": "ipython",
    "version": 3
   },
   "file_extension": ".py",
   "mimetype": "text/x-python",
   "name": "python",
   "nbconvert_exporter": "python",
   "pygments_lexer": "ipython3",
   "version": "3.7.11"
  },
  "varInspector": {
   "cols": {
    "lenName": 16,
    "lenType": 16,
    "lenVar": 40
   },
   "kernels_config": {
    "python": {
     "delete_cmd_postfix": "",
     "delete_cmd_prefix": "del ",
     "library": "var_list.py",
     "varRefreshCmd": "print(var_dic_list())"
    },
    "r": {
     "delete_cmd_postfix": ") ",
     "delete_cmd_prefix": "rm(",
     "library": "var_list.r",
     "varRefreshCmd": "cat(var_dic_list()) "
    }
   },
   "types_to_exclude": [
    "module",
    "function",
    "builtin_function_or_method",
    "instance",
    "_Feature"
   ],
   "window_display": false
  }
 },
 "nbformat": 4,
 "nbformat_minor": 5
}
